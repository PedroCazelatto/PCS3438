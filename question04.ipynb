{
 "cells": [
  {
   "cell_type": "code",
   "execution_count": 1,
   "metadata": {},
   "outputs": [],
   "source": [
    "import pandas as pd\n",
    "from sklearn.metrics import mean_absolute_error\n",
    "from sklearn.model_selection import KFold\n",
    "from sklearn import tree"
   ]
  },
  {
   "cell_type": "code",
   "execution_count": 2,
   "metadata": {},
   "outputs": [],
   "source": [
    "allData = pd.read_csv(\n",
    "    \"./reg02.csv\",\n",
    "    header= 0,\n",
    ")\n",
    "dataX = allData.drop(\"target\", axis= 1)\n",
    "dataY = allData[\"target\"]"
   ]
  },
  {
   "cell_type": "code",
   "execution_count": 3,
   "metadata": {},
   "outputs": [
    {
     "name": "stdout",
     "output_type": "stream",
     "text": [
      "44.17580689135491\n",
      "0.0\n"
     ]
    }
   ],
   "source": [
    "regTree = tree.DecisionTreeRegressor()\n",
    "kf = KFold(n_splits= 5)\n",
    "mae = 0\n",
    "for trainIdx, testIdx in kf.split(dataX):\n",
    "    trainDataX = dataX.loc[trainIdx]\n",
    "    trainDataY = dataY.loc[trainIdx]\n",
    "    testDataX = dataX.loc[testIdx]\n",
    "    testDataY = dataY.loc[testIdx]\n",
    "    \n",
    "    regTree.fit(trainDataX, trainDataY)\n",
    "    testPrediction = regTree.predict(testDataX)\n",
    "    \n",
    "    mae += mean_absolute_error(testDataY, testPrediction)/5\n",
    "\n",
    "print(mae)\n",
    "\n",
    "trainPrediction = regTree.predict(trainDataX)\n",
    "print(mean_absolute_error(trainDataY, trainPrediction))"
   ]
  }
 ],
 "metadata": {
  "kernelspec": {
   "display_name": "Python 3.10.3 64-bit",
   "language": "python",
   "name": "python3"
  },
  "language_info": {
   "codemirror_mode": {
    "name": "ipython",
    "version": 3
   },
   "file_extension": ".py",
   "mimetype": "text/x-python",
   "name": "python",
   "nbconvert_exporter": "python",
   "pygments_lexer": "ipython3",
   "version": "3.10.3"
  },
  "orig_nbformat": 4,
  "vscode": {
   "interpreter": {
    "hash": "c3503f95e0e8f4afdf6702396a7a2a29cae9f67572acfe092405dcaa2579b817"
   }
  }
 },
 "nbformat": 4,
 "nbformat_minor": 2
}
