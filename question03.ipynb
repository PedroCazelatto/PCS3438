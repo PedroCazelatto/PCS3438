{
 "cells": [
  {
   "cell_type": "code",
   "execution_count": 1,
   "metadata": {},
   "outputs": [],
   "source": [
    "import pandas as pd\n",
    "from sklearn.metrics import mean_squared_error\n",
    "from sklearn.model_selection import LeaveOneOut\n",
    "from sklearn import linear_model"
   ]
  },
  {
   "cell_type": "code",
   "execution_count": 2,
   "metadata": {},
   "outputs": [],
   "source": [
    "allData = pd.read_csv(\n",
    "    \"./reg01.csv\",\n",
    "    header= 0,\n",
    ")\n",
    "dataX = allData.drop(\"target\", axis= 1)\n",
    "dataY = allData[\"target\"]"
   ]
  },
  {
   "cell_type": "code",
   "execution_count": 3,
   "metadata": {},
   "outputs": [
    {
     "name": "stdout",
     "output_type": "stream",
     "text": [
      "19.220259837710355\n",
      "15.465218791702425\n"
     ]
    }
   ],
   "source": [
    "regLasso = linear_model.Lasso()\n",
    "loo = LeaveOneOut()\n",
    "trainRMSE = 0\n",
    "testRMSE = 0\n",
    "for trainIdx, testIdx in loo.split(dataX):\n",
    "    trainDataX = dataX.loc[trainIdx]\n",
    "    trainDataY = dataY.loc[trainIdx]\n",
    "    testDataX = dataX.loc[testIdx]\n",
    "    testDataY = dataY.loc[testIdx]\n",
    "    \n",
    "    regLasso.fit(trainDataX, trainDataY)\n",
    "    trainPrediction = regLasso.predict(trainDataX)\n",
    "    testPrediction = regLasso.predict(testDataX)\n",
    "    \n",
    "    trainRMSE += mean_squared_error(trainDataY, trainPrediction, squared= False)\n",
    "    testRMSE += mean_squared_error(testDataY, testPrediction, squared= False)\n",
    "\n",
    "print(trainRMSE/len(dataX))\n",
    "print(testRMSE/len(dataX))"
   ]
  }
 ],
 "metadata": {
  "kernelspec": {
   "display_name": "Python 3.10.3 64-bit",
   "language": "python",
   "name": "python3"
  },
  "language_info": {
   "codemirror_mode": {
    "name": "ipython",
    "version": 3
   },
   "file_extension": ".py",
   "mimetype": "text/x-python",
   "name": "python",
   "nbconvert_exporter": "python",
   "pygments_lexer": "ipython3",
   "version": "3.10.3"
  },
  "orig_nbformat": 4,
  "vscode": {
   "interpreter": {
    "hash": "c3503f95e0e8f4afdf6702396a7a2a29cae9f67572acfe092405dcaa2579b817"
   }
  }
 },
 "nbformat": 4,
 "nbformat_minor": 2
}
